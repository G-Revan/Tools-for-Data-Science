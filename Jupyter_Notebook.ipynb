{
 "cells": [
  {
   "cell_type": "markdown",
   "metadata": {
    "jupyter": {
     "source_hidden": true
    },
    "tags": []
   },
   "source": [
    "<center>\n",
    "    <img src=\"https://cf-courses-data.s3.us.cloud-object-storage.appdomain.cloud/IBMDeveloperSkillsNetwork-DS0105EN-SkillsNetwork/labs/Module2/images/SN_web_lightmode.png\" width=\"300\" alt=\"cognitiveclass.ai logo\">\n",
    "</center>\n"
   ]
  },
  {
   "cell_type": "markdown",
   "metadata": {},
   "source": [
    "#### Add your code below following the instructions given in the course\n"
   ]
  },
  {
   "cell_type": "markdown",
   "metadata": {},
   "source": [
    "# Jupyter Notebook\n",
    "\n",
    "This is the content of the Markdown cell.\n"
   ]
  },
  {
   "cell_type": "markdown",
   "metadata": {
    "tags": []
   },
   "source": [
    "| Tool         | Description                           |\n",
    "|--------------|---------------------------------------|\n",
    "| NumPy        | Numerical computing library for Python|\n",
    "| Pandas       | Data manipulation library for Python  |\n",
    "| Matplotlib   | Plotting library for Python           |\n",
    "| Seaborn      | Statistical data visualization library|\n",
    "| Scikit-learn | Machine learning library for Python   |\n"
   ]
  },
  {
   "cell_type": "markdown",
   "metadata": {},
   "source": [
    "Arithmetic expressions are fundamental mathematical representations that combine numbers and operators, such as addition, subtraction, multiplication, and division, to perform calculations and evaluate numerical relationships.\n",
    "\n",
    "- Addition: Adds two or more numbers together.\n",
    "- Subtraction: Subtracts one number from another.\n",
    "- Multiplication: Multiplies two or more numbers together.\n",
    "- Division: Divides one number by another to find the quotient.\n"
   ]
  },
  {
   "cell_type": "markdown",
   "metadata": {
    "tags": []
   },
   "source": [
    "**Author:** [GANDHAM REVAN]\n"
   ]
  },
  {
   "cell_type": "markdown",
   "metadata": {},
   "source": [
    "Data science libraries are essential tools for performing various tasks such as data manipulation, visualization, and machine learning. Here are some popular data science libraries:\n",
    "\n",
    "1. NumPy\n",
    "2. Pandas\n",
    "3. Matplotlib\n",
    "4. Seaborn\n",
    "5. Scikit-learn\n"
   ]
  },
  {
   "cell_type": "markdown",
   "metadata": {},
   "source": [
    "Data science languages play a crucial role in data analysis, machine learning, and statistical modeling. Here are some commonly used data science languages:\n",
    "\n",
    "1. Python\n",
    "2. R\n",
    "3. SQL\n",
    "4. Julia\n",
    "5. MATLAB\n"
   ]
  },
  {
   "cell_type": "markdown",
   "metadata": {
    "tags": []
   },
   "source": [
    "Arithmetic expressions are fundamental mathematical representations that combine numbers and operators, such as addition, subtraction, multiplication, and division, to perform calculations and evaluate numerical relationships.\n",
    "\n",
    "- Addition: Adds two or more numbers together.\n",
    "- Subtraction: Subtracts one number from another.\n",
    "- Multiplication: Multiplies two or more numbers together.\n",
    "- Division: Divides one number by another to find the quotient.\n"
   ]
  },
  {
   "cell_type": "markdown",
   "metadata": {},
   "source": []
  }
 ],
 "metadata": {
  "kernelspec": {
   "display_name": "Python",
   "language": "python",
   "name": "conda-env-python-py"
  },
  "language_info": {
   "codemirror_mode": {
    "name": "ipython",
    "version": 3
   },
   "file_extension": ".py",
   "mimetype": "text/x-python",
   "name": "python",
   "nbconvert_exporter": "python",
   "pygments_lexer": "ipython3",
   "version": "3.7.12"
  }
 },
 "nbformat": 4,
 "nbformat_minor": 4
}
